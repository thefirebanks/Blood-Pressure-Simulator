{
 "cells": [
  {
   "cell_type": "markdown",
   "metadata": {
    "collapsed": false
   },
   "source": [
    "## Final Project: Modelling the blood pressure curve and RSA (https://www.ncbi.nlm.nih.gov/pmc/articles/PMC5487539/)\n"
   ]
  },
  {
   "cell_type": "markdown",
   "metadata": {
    "collapsed": false
   },
   "source": [
    "### Summary\n",
    "\n",
    "**1. Goal**: \"To produce a mathematical model capable of accurately reproducing the dominant features of the blood pressure curve and in particular the dicrotic notch (a small dip in the blood pressure curve associated with aortic valve closure), and the variation due to respiratory sinus arrhythmia (RSA). [**WHY**?] Abnormalities with the dicrotic notch may indicate problems with the valve or poor vascular resistance caused, for example, by severe septic shock\""
   ]
  },
  {
   "cell_type": "markdown",
   "metadata": {
    "collapsed": false
   },
   "source": [
    "**2. Compartment models** \n",
    "- Initially dividing cardiovascular system into the heart, veins and arteries, where the change in volume of each zone is determined by differential equations measuring the influx and efflux of blood. \n",
    "\n",
    "- However, they wanted to show the **dicrotic notch**: *\"pressure fluctuation seen when the aortic valve closes. This closure is caused by the **pressure drop** across the valve becoming negative\"*.\n",
    "\n",
    "- They made a new 4-compartment model: Exit region close to the valve or aortich arch (e), left valve (LV), arteries (a), veins (v). $Q_{x}$ is the flow going out of x, and $\\dot V_{x}$ represents the change of volume over time, or the derivative with respect to time. \n",
    "\n",
    "    --> The rate of **change of volume in the exit region** depends on the difference between the rates at which fluid flows in from the left ventricle and fluid flows out of the aortic arch.\n",
    "    $$\\dot V_e = Q_{LV} - Q_{e}$$\n",
    "    --> **In the arteries** the volume increases due to fluid coming from the arch and decreases as the fluid goes to the veins\n",
    "    $$\\dot V_a = Q_{e} - Q_{a}$$\n",
    "    --> **For the veins**, the volume increases due to fluid from the arteries and then as the fluid goes to the ventricle\n",
    "    $$\\dot V_v = Q_{a} - Q_{v}$$\n",
    "    --> Finally, in the case of the **left ventricle**, the blood comes from the veins and leaves to the aortic arch to start the cycle again\n",
    "    $$\\dot V_{LV} = Q_{v} - Q_{LV}$$"
   ]
  },
  {
   "cell_type": "markdown",
   "metadata": {
    "collapsed": false
   },
   "source": [
    "**3. Principles**\n",
    "- \"Changes in pressure are associated with the compliance of blood vessels rather than the relatively small compressibility of blood itself\"\n",
    "- Some definitions:\n",
    "    - Compliance: The change in volume produced per unit of pressure exerted \n",
    "    - Elastance: The change of pressure required to change a unit of volume\n",
    "- The volume of a compliant elastic vessel can be measured as:\n",
    "    $$V = V_0 + Cp$$\n",
    "   where $V_0$ is the volume at pressure time 0 and $C$ is the compliance, a constant, with $V > 0$ (we will assume that the vessel cannot collapse for practicality purposes). \n",
    "- Given that the amount of blood that is pumped out of the left ventricle depends on its elastance, we will define the volume as it as:\n",
    "    $$V_{LV} = V_0 + \\frac{p_{LV}}{E_{LV}}$$\n",
    "    where $E_{LV}$ represents the elastance of the left ventricle. This leads us to define the elastance as the change in pressure over the change in volume.\n",
    "\n",
    "- As we differentiate the compliance and elastance equations, we use the compliance to describe the change in volume for the blood vessels, and the elastance to define the change in volume of the heart ventricle. Therefore, we get the following values for the volume of each component in terms of pressure:\n",
    "    $$\\dot V_{LV} = \\frac{d}{dt}(\\frac{p_{LV}}{E_{LV}})$$\n",
    "    $$\\dot V_{v} = C_v \\dot p_v$$\n",
    "    $$\\dot V_{a} = C_a \\dot p_a$$\n",
    "    $$\\dot V_{e} = C_e \\dot p_e$$\n",
    "    \n",
    "    _Note on these equations_: The compliance is a constant, whereas the elastance is a variable that varies with time.\n",
    "- We write the blood flow as standard and uni-directional, using the following equation\n",
    "    $$Q = \\frac{\\Delta p}{R}$$\n",
    "    where R is the resistance to flow, representing all the intricacies that make the blood flow turbulent in a real life scenario. \n",
    "    "
   ]
  },
  {
   "cell_type": "markdown",
   "metadata": {
    "collapsed": false
   },
   "source": [
    "**4. Basic model**\n",
    "- Using the equations from the Principles section, we get to the following basic set of equations:\n",
    "$$\\dot V_e \\rightarrow C_e \\dot p_e = \\frac{p_{LV} - p_e}{R_e} - \\frac{p_e - p_a}{R_a}$$\n",
    "$$\\dot V_a \\rightarrow C_a \\dot p_a = \\frac{p_e - p_a}{R_a} - \\frac{p_a - p_v}{R_v}$$\n",
    "$$\\dot V_v \\rightarrow C_v \\dot p_v = \\frac{p_a - p_v}{R_v} - \\frac{p_v - p_{LV}}{R_{LV}}$$\n",
    "$$\\dot V_{LV} \\rightarrow \\frac{d}{dt}(\\frac{p_LV}{E_{LV}}) = \\frac{p_v - p_{LV}}{R_{LV}} - \\frac{p_{LV} - p_e}{R_e}$$"
   ]
  },
  {
   "cell_type": "code",
   "execution_count": 43,
   "metadata": {
    "collapsed": false
   },
   "outputs": [
   ],
   "source": [
    "### Initialize all terms/constants from the paper (Table 1)\n",
    "\n",
    "# Compliance\n",
    "C_e = 1.5\n",
    "C_v = 50\n",
    "C_a = 1.5\n",
    "\n",
    "# Resistance\n",
    "R_a = 0.06\n",
    "R_v = 0.016\n",
    "R_LV = 1.2\n",
    "\n",
    "## PROBLEM!\n",
    "R_eM = 10 # WHAT IS THIS FOR???? \n",
    "\n",
    "# Period of heart beat cycle in seconds\n",
    "T = 0.9\n",
    "T_dia = 2*T/3\n",
    "T_sys = T/3\n",
    "\n",
    "# Diastolic elastance \n",
    "E_d = 0.06\n",
    "\n",
    "# Variables for systolic elastance\n",
    "w_0 = 7.54\n",
    "E_s0 = 3.0\n",
    "c_1 = 0.1\n",
    "c_2 = 6\n",
    "c_3 = 0.01\n",
    "\n",
    "# Variables for pressure over time f(t) and resistance of the aortic valve R_e\n",
    "e = 0.00001 \n",
    "R_e0 = 0.016\n",
    "A_1 = 0.5\n",
    "c_4 = 500\n",
    "c_5 = 4*log(100)\n",
    "c_6 = 7.5\n"
   ]
  },
  {
   "cell_type": "code",
   "execution_count": 20,
   "metadata": {
    "collapsed": false
   },
   "outputs": [
   ],
   "source": [
    "# Initial values from patient 1 gotten from the paper (Table 3)\n",
    "p_e0, p_a0, p_v0, p_LV0, delta_t0 = 49.896, 55.000, 16.628, 49.714, 0.75786"
   ]
  },
  {
   "cell_type": "markdown",
   "metadata": {
    "collapsed": false
   },
   "source": [
    "**5. Refinements**\n",
    "- What we are missing: \n",
    "    - Driving mechanism for the blood flow\n",
    "    - Mechanism describing dicrotic notch (The dip in pressure after the aortic valve closes)\n",
    "    - Mechanism describing aortic valve. (How it opens and closes)\n",
    "- How to fix it:\n",
    "    1. Define elastance to model blood flow, as it represents the pumping of the heart, with the constant $E_d$ representing the diastolic elastance (when the blood pressure is the lowest, the amount of pressure in between beats) and $E_s$ representing systolic elastance (maximum pressure when the beat occurs). \n",
    "    $$E_{LV} = E_d + a(t)(E_s - E_d)$$\n",
    "    The value of $a(t)$ reflects the case when $a(t)$ gets switched off for $2/3$ of the cycle, and $T$ represents a full cycle (heart beat). Specifically, $T_{sys} \\approx \\frac{1}{3}T$. Then:\n",
    "    $$a(t) = \\begin{cases}\n",
    "        sin^2(\\frac{3 \\omega (t-t_0)}{2}), & t-t_0 \\in (0, T_{sys}) \\\\\n",
    "        0, & t-t_0 \\in (T_{sys}, T)\\end{cases}$$\n",
    "\n"
   ]
  },
  {
   "cell_type": "markdown",
   "metadata": {
    "collapsed": false
   },
   "source": [
    "    - Set T to be time dependent, to ease the modelling of RSA, which associates heart rate with respiration:\n",
    "    $$\\omega = \\omega_0 + c_3 sin(\\frac{\\omega_0 t}{c_2})$$\n",
    "    Then, because the systolic elastance changes over time with the presence of RSA, we model it as:\n",
    "    $$ E_s = E_{s0} + c_1 sin(\\frac{\\omega_0 t}{c_2})$$\n",
    "    where $c_1$ is half the variation of elastance height, $c_2$ is the number of heart beats per respiration, and $c_3$ is half the variation of $\\omega$. Finally, $w_0 = \\frac{2\\pi}{60}\\times HR$ is an angular frequency and $HR$ is the average heart rate in beats per minute.  \n",
    "   \n",
    "   "
   ]
  },
  {
   "cell_type": "code",
   "execution_count": 69,
   "metadata": {
    "collapsed": false
   },
   "outputs": [
   ],
   "source": [
    "# Define t_0\n",
    "t_0 = 0"
   ]
  },
  {
   "cell_type": "code",
   "execution_count": 70,
   "metadata": {
    "collapsed": false
   },
   "outputs": [
   ],
   "source": [
    "# Define E_s and w\n",
    "\n",
    "def wf(self, t):\n",
    "    return w_0 + c_3*sin((w_0*t)/c_2) \n",
    "\n",
    "w = function(\"w\", nargs=1, eval_func=wf)\n",
    "\n",
    "def E_sf(self, t):\n",
    "    return E_s0 + c_1*sin((w_0*t)/c_2)\n",
    "\n",
    "E_s = function(\"E_s\", nargs=1, eval_func=E_sf)"
   ]
  },
  {
   "cell_type": "code",
   "execution_count": 71,
   "metadata": {
    "collapsed": false
   },
   "outputs": [
   ],
   "source": [
    "# # Define a(t)\n",
    "def af(self, t):\n",
    "    if t - t_0 < T_sys and t - t_0 > 0:\n",
    "        return (sin((3*w(t)*(t-t_0))/2))^2\n",
    "    elif t - t_0 > T_sys and t - t_0 < T:\n",
    "        return 0\n",
    "\n",
    "a = function(\"a\", nargs=1, eval_func=af)\n",
    "\n",
    "\n",
    "# a = piecewise([[(0, T_sys), (sin((3*w(t)*(t-t_0))/2))^2],[(T_sys, T), 0]]) "
   ]
  },
  {
   "cell_type": "code",
   "execution_count": 72,
   "metadata": {
    "collapsed": false
   },
   "outputs": [
   ],
   "source": [
    "# Define E_LV (t)\n",
    "\n",
    "def E_LVf(self, t):\n",
    "    return E_d + a(t)*(E_s(t) - E_d)\n",
    "\n",
    "E_LV = function(\"E_LVf\", nargs=1, eval_func=E_LVf)"
   ]
  },
  {
   "cell_type": "markdown",
   "metadata": {
    "collapsed": false
   },
   "source": [
    " 2. To model the aortic valve, we will define the resistances of the aortic valve and the entrance to the ventricle. The former one depends on pressure difference and time, which is why we rewrite it below. The latter one will be just a Heaviside step function (1 if argument is positive, 0 otherwise). It is worth noting that the other resistances are constants (for $v, LV$ and $a$). \n",
    "    $$R_e = R_{e0}[1 + \\epsilon_1(exp(-A_1(p_{LV} - p_e)))]$$\n",
    " where $R_{e0} \\ll R_a$ is a constant variable representing when the valve is fully open. The constant $A_1$, when multiplied by the difference in pressures ($p_{LV} - p_e$) should increase fast as the valve closes. Finally, the constant $\\epsilon_1 \\ll 1$ assures us that the exponential term is small when the difference in pressures is above 0, but is large when the difference in pressures is negative.\n",
    "    "
   ]
  },
  {
   "cell_type": "code",
   "execution_count": 73,
   "metadata": {
    "collapsed": false
   },
   "outputs": [
   ],
   "source": [
    "# Define R_e - the initial values for A_1 and e_1 are taken from the paper\n",
    "# def R_ef(self, t):\n",
    "#     return R_e0*(1 + e*(exp(-A_1*(p_LV - p_e))))\n",
    "\n",
    "# R_e = function(\"R_e\", nargs=1, eval_func=R_ef)\n",
    "\n",
    "R_e = R_e0*(1 + e*(exp(-A_1*(p_LV - p_e))))"
   ]
  },
  {
   "cell_type": "markdown",
   "metadata": {
    "collapsed": false
   },
   "source": [
    " 3. Model dicrotic notch with pressure over time. Using terms to account for the closing of the valve, as well as the delay in closure we are able to see the pressure drop and the dicrotic notch. We will define $f(t)$ to be pressure as a function of time, representing the impulse of blood as:\n",
    " $$f(t) = c_4exp(\\frac{-c_5(t-t_n -c_6\\Delta t)^2}{(\\Delta t)^2})$$\n",
    " where $c_4$ is the height of the pulse, $c_5$ is the sharpness and $c_6$ the position of the centre in the wave reading. $\\Delta t$ will represent the \"delay in closure after the pressure drop becomes negative\"."
   ]
  },
  {
   "cell_type": "code",
   "execution_count": 74,
   "metadata": {
    "collapsed": false
   },
   "outputs": [
   ],
   "source": [
    "# Define f\n",
    "\n",
    "t = var(\"t\")\n",
    "\n",
    "# # PROBLEMS HERE!!!!!!!: \n",
    "# # # # # # I don't really know how to represent delta_t, is it just t-t0?\n",
    "# # # # # # I think that t_n is the amount of periods that have happened? so t/T?\n",
    "# # # # # # And I don't really know where to use \\Delta t0??? \n",
    "\n",
    "def t_nf(self, t): # How many beats have we had so far \n",
    "    return t/T\n",
    "    \n",
    "t_n = function(\"t_n\", nargs=1, eval_func=t_nf)\n",
    "\n",
    "def delta_tf(self, t):\n",
    "    return t - t_0\n",
    "\n",
    "delta_t = function(\"delta_tf\", nargs=1, eval_func=delta_tf)\n",
    "\n",
    "# Return t_n\n",
    "def ff(self, t):\n",
    "    return c_4*exp((-c_5*(t - t_n(t) - c_6*(delta_t(t))^2)/((delta_t(t))^2)))\n",
    "\n",
    "f = function(\"f\", nargs=1, eval_func=ff)"
   ]
  },
  {
   "cell_type": "markdown",
   "metadata": {
    "collapsed": false
   },
   "source": [
    "**6. Final model**\n",
    "- Combining the equations from the basic model, we refine the volume calculation of the aortic valve and the left ventricle:\n",
    "\n",
    "$$C_e \\dot p_e = \\frac{p_{LV} - p_e}{R_e(t)} - \\frac{p_e - p_a}{R_a} + f(t)$$\n",
    "$$C_a \\dot p_a = \\frac{p_e - p_a}{R_a} - \\frac{p_a - p_v}{R_v}$$\n",
    "$$C_v \\dot p_v = \\frac{p_a - p_v}{R_v} - \\frac{p_v - p_{LV}}{R_{LV}}$$\n",
    "$$\\frac{d}{dt}(\\frac{p_{LV}}{E_{LV}}) = \\frac{p_v - p_{LV}}{R_{LV}} - \\frac{p_{LV} - p_e}{R_e(t)} - f(t)$$\n",
    "\n",
    "where $f(t)$ represents the flux back through the valve before it closes, which then comes out through the left ventricle to be distributed again."
   ]
  },
  {
   "cell_type": "code",
   "execution_count": 75,
   "metadata": {
    "collapsed": false
   },
   "outputs": [
   ],
   "source": [
    "# FINAL MODEL \n",
    "\n",
    "# Define right side for v, e, a and LV\n",
    "\n",
    "p_LV, p_e, p_v, p_a = var('p_LV, p_e, p_v, p_a') # Pressure\n",
    "t = var('t') # Time\n",
    "\n",
    "pe_rhs = ((p_LV - p_e)/R_e - (p_e - p_a)/R_a + f(t))/C_e\n",
    "pa_rhs = ((p_e - p_a)/R_a - (p_a - p_v)/R_v)/C_a\n",
    "pv_rhs = ((p_a - p_v)/R_v - (p_v - p_LV)/R_LV)/C_v\n",
    "pLV_rhs = E_LV(t)*((p_v - p_LV)/R_LV - (p_LV - p_e)/R_e - f(t)) # This is d/dt (p_LV/E_LV), therefore dp_LV/dt = E_LV * d/dt (p_LV/E_LV) I presume\n"
   ]
  },
  {
   "cell_type": "code",
   "execution_count": 76,
   "metadata": {
    "collapsed": false
   },
   "outputs": [
   ],
   "source": [
    "rhs = [pe_rhs, pa_rhs, pv_rhs, pLV_rhs]#, E_s, R_e, delta_t]"
   ]
  },
  {
   "cell_type": "code",
   "execution_count": 77,
   "metadata": {
    "collapsed": false,
    "scrolled": true
   },
   "outputs": [
    {
     "ename": "TypeError",
     "evalue": "unable to simplify to float approximation",
     "output_type": "error",
     "traceback": [
      "\u001b[0;31m---------------------------------------------------------------------------\u001b[0m",
      "\u001b[0;31mTypeError\u001b[0m                                 Traceback (most recent call last)",
      "\u001b[0;32m<ipython-input-77-0b17e1455056>\u001b[0m in \u001b[0;36m<module>\u001b[0;34m()\u001b[0m\n\u001b[1;32m     10\u001b[0m     \u001b[0mics\u001b[0m\u001b[0;34m=\u001b[0m\u001b[0minitconds\u001b[0m\u001b[0;34m,\u001b[0m\u001b[0;34m\u001b[0m\u001b[0m\n\u001b[1;32m     11\u001b[0m     \u001b[0mtimes\u001b[0m\u001b[0;34m=\u001b[0m\u001b[0mtps\u001b[0m\u001b[0;34m,\u001b[0m\u001b[0;34m\u001b[0m\u001b[0m\n\u001b[0;32m---> 12\u001b[0;31m     dvars=[p_e, p_a, p_v, p_LV])#, E_s, R_e, delta_t])#,\n\u001b[0m\u001b[1;32m     13\u001b[0m     \u001b[0;31m#ivar=t)\u001b[0m\u001b[0;34m\u001b[0m\u001b[0;34m\u001b[0m\u001b[0m\n",
      "\u001b[0;32m/ext/sage/sage-8.7_1804/local/lib/python2.7/site-packages/sage/calculus/desolvers.pyc\u001b[0m in \u001b[0;36mdesolve_odeint\u001b[0;34m(des, ics, times, dvars, ivar, compute_jac, args, rtol, atol, tcrit, h0, hmax, hmin, ixpr, mxstep, mxhnil, mxordn, mxords, printmessg)\u001b[0m\n\u001b[1;32m   1703\u001b[0m     sol=odeint(func, ics, times, args=args, Dfun=Dfun, rtol=rtol, atol=atol,\n\u001b[1;32m   1704\u001b[0m         \u001b[0mtcrit\u001b[0m\u001b[0;34m=\u001b[0m\u001b[0mtcrit\u001b[0m\u001b[0;34m,\u001b[0m \u001b[0mh0\u001b[0m\u001b[0;34m=\u001b[0m\u001b[0mh0\u001b[0m\u001b[0;34m,\u001b[0m \u001b[0mhmax\u001b[0m\u001b[0;34m=\u001b[0m\u001b[0mhmax\u001b[0m\u001b[0;34m,\u001b[0m \u001b[0mhmin\u001b[0m\u001b[0;34m=\u001b[0m\u001b[0mhmin\u001b[0m\u001b[0;34m,\u001b[0m \u001b[0mixpr\u001b[0m\u001b[0;34m=\u001b[0m\u001b[0mixpr\u001b[0m\u001b[0;34m,\u001b[0m \u001b[0mmxstep\u001b[0m\u001b[0;34m=\u001b[0m\u001b[0mmxstep\u001b[0m\u001b[0;34m,\u001b[0m\u001b[0;34m\u001b[0m\u001b[0m\n\u001b[0;32m-> 1705\u001b[0;31m         mxhnil=mxhnil, mxordn=mxordn, mxords=mxords, printmessg=printmessg)\n\u001b[0m\u001b[1;32m   1706\u001b[0m \u001b[0;34m\u001b[0m\u001b[0m\n\u001b[1;32m   1707\u001b[0m     \u001b[0;32mreturn\u001b[0m \u001b[0msol\u001b[0m\u001b[0;34m\u001b[0m\u001b[0m\n",
      "\u001b[0;32m/ext/sage/sage-8.7_1804/local/lib/python2.7/site-packages/scipy/integrate/odepack.pyc\u001b[0m in \u001b[0;36modeint\u001b[0;34m(func, y0, t, args, Dfun, col_deriv, full_output, ml, mu, rtol, atol, tcrit, h0, hmax, hmin, ixpr, mxstep, mxhnil, mxordn, mxords, printmessg, tfirst)\u001b[0m\n\u001b[1;32m    242\u001b[0m                              \u001b[0mfull_output\u001b[0m\u001b[0;34m,\u001b[0m \u001b[0mrtol\u001b[0m\u001b[0;34m,\u001b[0m \u001b[0matol\u001b[0m\u001b[0;34m,\u001b[0m \u001b[0mtcrit\u001b[0m\u001b[0;34m,\u001b[0m \u001b[0mh0\u001b[0m\u001b[0;34m,\u001b[0m \u001b[0mhmax\u001b[0m\u001b[0;34m,\u001b[0m \u001b[0mhmin\u001b[0m\u001b[0;34m,\u001b[0m\u001b[0;34m\u001b[0m\u001b[0m\n\u001b[1;32m    243\u001b[0m                              \u001b[0mixpr\u001b[0m\u001b[0;34m,\u001b[0m \u001b[0mmxstep\u001b[0m\u001b[0;34m,\u001b[0m \u001b[0mmxhnil\u001b[0m\u001b[0;34m,\u001b[0m \u001b[0mmxordn\u001b[0m\u001b[0;34m,\u001b[0m \u001b[0mmxords\u001b[0m\u001b[0;34m,\u001b[0m\u001b[0;34m\u001b[0m\u001b[0m\n\u001b[0;32m--> 244\u001b[0;31m                              int(bool(tfirst)))\n\u001b[0m\u001b[1;32m    245\u001b[0m     \u001b[0;32mif\u001b[0m \u001b[0moutput\u001b[0m\u001b[0;34m[\u001b[0m\u001b[0;34m-\u001b[0m\u001b[0;36m1\u001b[0m\u001b[0;34m]\u001b[0m \u001b[0;34m<\u001b[0m \u001b[0;36m0\u001b[0m\u001b[0;34m:\u001b[0m\u001b[0;34m\u001b[0m\u001b[0m\n\u001b[1;32m    246\u001b[0m         \u001b[0mwarning_msg\u001b[0m \u001b[0;34m=\u001b[0m \u001b[0m_msgs\u001b[0m\u001b[0;34m[\u001b[0m\u001b[0moutput\u001b[0m\u001b[0;34m[\u001b[0m\u001b[0;34m-\u001b[0m\u001b[0;36m1\u001b[0m\u001b[0;34m]\u001b[0m\u001b[0;34m]\u001b[0m \u001b[0;34m+\u001b[0m \u001b[0;34m\" Run with full_output = 1 to get quantitative information.\"\u001b[0m\u001b[0;34m\u001b[0m\u001b[0m\n",
      "\u001b[0;32m/ext/sage/sage-8.7_1804/local/lib/python2.7/site-packages/sage/calculus/desolvers.pyc\u001b[0m in \u001b[0;36mfunc\u001b[0;34m(y, t)\u001b[0m\n\u001b[1;32m   1687\u001b[0m             \u001b[0mv\u001b[0m \u001b[0;34m=\u001b[0m \u001b[0mlist\u001b[0m\u001b[0;34m(\u001b[0m\u001b[0my\u001b[0m\u001b[0;34m[\u001b[0m\u001b[0;34m:\u001b[0m\u001b[0;34m]\u001b[0m\u001b[0;34m)\u001b[0m\u001b[0;34m\u001b[0m\u001b[0m\n\u001b[1;32m   1688\u001b[0m             \u001b[0mv\u001b[0m\u001b[0;34m.\u001b[0m\u001b[0mappend\u001b[0m\u001b[0;34m(\u001b[0m\u001b[0mt\u001b[0m\u001b[0;34m)\u001b[0m\u001b[0;34m\u001b[0m\u001b[0m\n\u001b[0;32m-> 1689\u001b[0;31m             \u001b[0;32mreturn\u001b[0m \u001b[0;34m[\u001b[0m\u001b[0mdec\u001b[0m\u001b[0;34m(\u001b[0m\u001b[0;34m*\u001b[0m\u001b[0mv\u001b[0m\u001b[0;34m)\u001b[0m \u001b[0;32mfor\u001b[0m \u001b[0mdec\u001b[0m \u001b[0;32min\u001b[0m \u001b[0mdesc\u001b[0m\u001b[0;34m]\u001b[0m\u001b[0;34m\u001b[0m\u001b[0m\n\u001b[0m\u001b[1;32m   1690\u001b[0m \u001b[0;34m\u001b[0m\u001b[0m\n\u001b[1;32m   1691\u001b[0m         \u001b[0;32mif\u001b[0m \u001b[0;32mnot\u001b[0m \u001b[0mcompute_jac\u001b[0m\u001b[0;34m:\u001b[0m\u001b[0;34m\u001b[0m\u001b[0m\n",
      "\u001b[0;32m/ext/sage/sage-8.7_1804/local/lib/python2.7/site-packages/sage/ext/interpreters/wrapper_rdf.pyx\u001b[0m in \u001b[0;36msage.ext.interpreters.wrapper_rdf.Wrapper_rdf.__call__ (build/cythonized/sage/ext/interpreters/wrapper_rdf.c:2230)\u001b[0;34m()\u001b[0m\n\u001b[1;32m     74\u001b[0m         \u001b[0;32mfor\u001b[0m \u001b[0mi\u001b[0m \u001b[0;32mfrom\u001b[0m \u001b[0;36m0\u001b[0m \u001b[0;34m<=\u001b[0m \u001b[0mi\u001b[0m \u001b[0;34m<\u001b[0m \u001b[0mlen\u001b[0m\u001b[0;34m(\u001b[0m\u001b[0margs\u001b[0m\u001b[0;34m)\u001b[0m\u001b[0;34m:\u001b[0m\u001b[0;34m\u001b[0m\u001b[0m\n\u001b[1;32m     75\u001b[0m             \u001b[0mself\u001b[0m\u001b[0;34m.\u001b[0m\u001b[0m_args\u001b[0m\u001b[0;34m[\u001b[0m\u001b[0mi\u001b[0m\u001b[0;34m]\u001b[0m \u001b[0;34m=\u001b[0m \u001b[0margs\u001b[0m\u001b[0;34m[\u001b[0m\u001b[0mi\u001b[0m\u001b[0;34m]\u001b[0m\u001b[0;34m\u001b[0m\u001b[0m\n\u001b[0;32m---> 76\u001b[0;31m         return self._domain(interp_rdf(c_args\n\u001b[0m\u001b[1;32m     77\u001b[0m             \u001b[0;34m,\u001b[0m \u001b[0mself\u001b[0m\u001b[0;34m.\u001b[0m\u001b[0m_constants\u001b[0m\u001b[0;34m\u001b[0m\u001b[0m\n\u001b[1;32m     78\u001b[0m             \u001b[0;34m,\u001b[0m \u001b[0mself\u001b[0m\u001b[0;34m.\u001b[0m\u001b[0m_py_constants\u001b[0m\u001b[0;34m\u001b[0m\u001b[0m\n",
      "\u001b[0;32m/ext/sage/sage-8.7_1804/local/lib/python2.7/site-packages/sage/symbolic/expression.pyx\u001b[0m in \u001b[0;36msage.symbolic.expression.Expression.__float__ (build/cythonized/sage/symbolic/expression.cpp:11042)\u001b[0;34m()\u001b[0m\n\u001b[1;32m   1426\u001b[0m                     \u001b[0;32mraise\u001b[0m\u001b[0;34m\u001b[0m\u001b[0m\n\u001b[1;32m   1427\u001b[0m             \u001b[0;32mexcept\u001b[0m \u001b[0mTypeError\u001b[0m\u001b[0;34m:\u001b[0m\u001b[0;34m\u001b[0m\u001b[0m\n\u001b[0;32m-> 1428\u001b[0;31m                 \u001b[0;32mraise\u001b[0m \u001b[0mTypeError\u001b[0m\u001b[0;34m(\u001b[0m\u001b[0;34m\"unable to simplify to float approximation\"\u001b[0m\u001b[0;34m)\u001b[0m\u001b[0;34m\u001b[0m\u001b[0m\n\u001b[0m\u001b[1;32m   1429\u001b[0m         \u001b[0;32mreturn\u001b[0m \u001b[0mret\u001b[0m\u001b[0;34m\u001b[0m\u001b[0m\n\u001b[1;32m   1430\u001b[0m \u001b[0;34m\u001b[0m\u001b[0m\n",
      "\u001b[0;31mTypeError\u001b[0m: unable to simplify to float approximation"
     ]
    }
   ],
   "source": [
    "# Let's see the results over time\n",
    "\n",
    "tps = srange(0, 120.0, T) # is the rate T or delta_t0?\n",
    "initconds = [p_e0, p_a0, p_v0, p_LV0]#, E_s0, R_e0, delta_t0]\n",
    "\n",
    "# Solve differential equations - make a simulation over time\n",
    "sol = desolve_odeint(\n",
    "    rhs,\n",
    "    ics=initconds,\n",
    "    times=tps,\n",
    "    dvars=[p_e, p_a, p_v, p_LV])#, E_s, R_e, delta_t])#,\n",
    "    #ivar=t)"
   ]
  },
  {
   "cell_type": "code",
   "execution_count": 24,
   "metadata": {
    "collapsed": false
   },
   "outputs": [
    {
     "ename": "NameError",
     "evalue": "name 'sol' is not defined",
     "output_type": "error",
     "traceback": [
      "\u001b[0;31m---------------------------------------------------------------------------\u001b[0m",
      "\u001b[0;31mNameError\u001b[0m                                 Traceback (most recent call last)",
      "\u001b[0;32m<ipython-input-24-8b566aefe9a3>\u001b[0m in \u001b[0;36m<module>\u001b[0;34m()\u001b[0m\n\u001b[0;32m----> 1\u001b[0;31m \u001b[0msx\u001b[0m \u001b[0;34m=\u001b[0m \u001b[0msol\u001b[0m\u001b[0;34m[\u001b[0m\u001b[0;34m:\u001b[0m\u001b[0;34m,\u001b[0m\u001b[0mInteger\u001b[0m\u001b[0;34m(\u001b[0m\u001b[0;36m0\u001b[0m\u001b[0;34m)\u001b[0m\u001b[0;34m]\u001b[0m\u001b[0;34m\u001b[0m\u001b[0m\n\u001b[0m\u001b[1;32m      2\u001b[0m \u001b[0msy\u001b[0m \u001b[0;34m=\u001b[0m \u001b[0msol\u001b[0m\u001b[0;34m[\u001b[0m\u001b[0;34m:\u001b[0m\u001b[0;34m,\u001b[0m\u001b[0mInteger\u001b[0m\u001b[0;34m(\u001b[0m\u001b[0;36m1\u001b[0m\u001b[0;34m)\u001b[0m\u001b[0;34m]\u001b[0m\u001b[0;34m\u001b[0m\u001b[0m\n\u001b[1;32m      3\u001b[0m \u001b[0msz\u001b[0m \u001b[0;34m=\u001b[0m \u001b[0msol\u001b[0m\u001b[0;34m[\u001b[0m\u001b[0;34m:\u001b[0m\u001b[0;34m,\u001b[0m\u001b[0mInteger\u001b[0m\u001b[0;34m(\u001b[0m\u001b[0;36m2\u001b[0m\u001b[0;34m)\u001b[0m\u001b[0;34m]\u001b[0m\u001b[0;34m\u001b[0m\u001b[0m\n\u001b[1;32m      4\u001b[0m \u001b[0mso\u001b[0m \u001b[0;34m=\u001b[0m \u001b[0msol\u001b[0m\u001b[0;34m[\u001b[0m\u001b[0;34m:\u001b[0m\u001b[0;34m,\u001b[0m\u001b[0mInteger\u001b[0m\u001b[0;34m(\u001b[0m\u001b[0;36m3\u001b[0m\u001b[0;34m)\u001b[0m\u001b[0;34m]\u001b[0m\u001b[0;34m\u001b[0m\u001b[0m\n\u001b[1;32m      5\u001b[0m \u001b[0;34m\u001b[0m\u001b[0m\n",
      "\u001b[0;31mNameError\u001b[0m: name 'sol' is not defined"
     ]
    }
   ],
   "source": [
    "sx = sol[:,0]\n",
    "sy = sol[:,1]\n",
    "sz = sol[:,2]\n",
    "so = sol[:,3]\n",
    "\n",
    "# plot all three time courses together\n",
    "p1 = line(zip(tps, sy), color='red')\n",
    "# p2 = line(zip(tps, sy), color='blue')\n",
    "# p3 = line(zip(tps, sz), color='green')\n",
    "# p4 = line(zip(tps, so), color='brown')\n",
    "\n",
    "show(p1)# + p2 + p3 + p4)"
   ]
  },
  {
   "cell_type": "markdown",
   "metadata": {
    "collapsed": false
   },
   "source": [
    "**7. Sensitivity Analysis**\n",
    "\n",
    "- There are 6 parameters that make a big difference in the L2 distance between the simulated pressure and the real data. We write the original variables in decreasing order of importance, and in parenthesis we write the variables that depend on these, and therefore share importance. These are:\n",
    "    - $E_d (\\text{and therefore } C_v)$\n",
    "    - $E_{s0} (\\text{similar with } C_a \\text{ and } C_e)$\n",
    "    - $p_a(0) (\\text{and } p_e(0), p_{LV}(0))$\n",
    "    - $A$\n",
    "    - $R_{LV}$\n",
    "    - $\\omega_0$"
   ]
  }
 ],
 "metadata": {
  "kernelspec": {
   "display_name": "SageMath (stable)",
   "language": "sagemath",
   "metadata": {
    "cocalc": {
     "description": "Open-source mathematical software system",
     "priority": 10,
     "url": "https://www.sagemath.org/"
    }
   },
   "name": "sagemath"
  },
  "language_info": {
   "codemirror_mode": {
    "name": "ipython",
    "version": 2
   },
   "file_extension": ".py",
   "mimetype": "text/x-python",
   "name": "python",
   "nbconvert_exporter": "python",
   "pygments_lexer": "ipython2",
   "version": "2.7.15"
  }
 },
 "nbformat": 4,
 "nbformat_minor": 0
}